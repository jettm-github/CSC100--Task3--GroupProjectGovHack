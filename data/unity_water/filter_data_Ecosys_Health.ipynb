{
 "cells": [
  {
   "cell_type": "code",
   "execution_count": 44,
   "metadata": {},
   "outputs": [],
   "source": [
    "import pandas as pd"
   ]
  },
  {
   "cell_type": "code",
   "execution_count": 45,
   "metadata": {},
   "outputs": [],
   "source": [
    "# import the xlsx file\n",
    "xlsx_file_path: str = \"../../data/unity_water/ehmp-estuarine-marine-data.xlsx\"\n",
    "# import the xlsx file\n",
    "df = pd.read_excel(xlsx_file_path, sheet_name=\"Estuarine Marine Data\", header=4)\n",
    "# delete the first column\n",
    "df = df.drop(df.columns[0], axis=1)"
   ]
  },
  {
   "cell_type": "code",
   "execution_count": 46,
   "metadata": {},
   "outputs": [
    {
     "data": {
      "text/html": [
       "<div>\n",
       "<style scoped>\n",
       "    .dataframe tbody tr th:only-of-type {\n",
       "        vertical-align: middle;\n",
       "    }\n",
       "\n",
       "    .dataframe tbody tr th {\n",
       "        vertical-align: top;\n",
       "    }\n",
       "\n",
       "    .dataframe thead th {\n",
       "        text-align: right;\n",
       "    }\n",
       "</style>\n",
       "<table border=\"1\" class=\"dataframe\">\n",
       "  <thead>\n",
       "    <tr style=\"text-align: right;\">\n",
       "      <th></th>\n",
       "      <th>Location</th>\n",
       "      <th>Location name</th>\n",
       "      <th>Lat\\n(GDA94)</th>\n",
       "      <th>Long\\n(GDA94)</th>\n",
       "      <th>Survey\\ndate</th>\n",
       "      <th>Survey\\ntime</th>\n",
       "      <th>Depth\\n(m)</th>\n",
       "      <th>Chlorophyll a\\n(ug/L)</th>\n",
       "      <th>Secchi depth\\n(metres)</th>\n",
       "      <th>Total N\\n(mg/L)</th>\n",
       "      <th>...</th>\n",
       "      <th>pH (Unit)</th>\n",
       "      <th>Pheopigments\\n(ug/L)</th>\n",
       "      <th>FRP\\n(mg/L)</th>\n",
       "      <th>Total P\\n(mg/L)</th>\n",
       "      <th>Salinity\\n(g/L)</th>\n",
       "      <th>Conductivity\\n(mS/cm)</th>\n",
       "      <th>Temp\\n(deg C)</th>\n",
       "      <th>Turbidity\\n(NTU)</th>\n",
       "      <th>TSS\\n(mg/L)</th>\n",
       "      <th>Enterococci \\n(CFU/100ml)</th>\n",
       "    </tr>\n",
       "  </thead>\n",
       "  <tbody>\n",
       "    <tr>\n",
       "      <th>0</th>\n",
       "      <td>E00916</td>\n",
       "      <td>MORETON BAY GRID REFERENCE 080820 (088200) (EH...</td>\n",
       "      <td>-27.278390</td>\n",
       "      <td>153.087709</td>\n",
       "      <td>2000-03-02</td>\n",
       "      <td>NaN</td>\n",
       "      <td>0.2</td>\n",
       "      <td>3.6</td>\n",
       "      <td>NaN</td>\n",
       "      <td>0.2</td>\n",
       "      <td>...</td>\n",
       "      <td>NaN</td>\n",
       "      <td>0.7</td>\n",
       "      <td>0.026</td>\n",
       "      <td>0.056</td>\n",
       "      <td>NaN</td>\n",
       "      <td>NaN</td>\n",
       "      <td>NaN</td>\n",
       "      <td>NaN</td>\n",
       "      <td>NaN</td>\n",
       "      <td>NaN</td>\n",
       "    </tr>\n",
       "    <tr>\n",
       "      <th>1</th>\n",
       "      <td>E00919</td>\n",
       "      <td>MORETON BAY GRID REFERENCE 100790 (105795) (10...</td>\n",
       "      <td>-27.306723</td>\n",
       "      <td>153.106036</td>\n",
       "      <td>2000-03-02</td>\n",
       "      <td>NaN</td>\n",
       "      <td>0.2</td>\n",
       "      <td>7.6</td>\n",
       "      <td>NaN</td>\n",
       "      <td>0.18</td>\n",
       "      <td>...</td>\n",
       "      <td>NaN</td>\n",
       "      <td>2.9</td>\n",
       "      <td>0.019</td>\n",
       "      <td>0.042</td>\n",
       "      <td>NaN</td>\n",
       "      <td>NaN</td>\n",
       "      <td>NaN</td>\n",
       "      <td>NaN</td>\n",
       "      <td>NaN</td>\n",
       "      <td>NaN</td>\n",
       "    </tr>\n",
       "    <tr>\n",
       "      <th>2</th>\n",
       "      <td>E00800</td>\n",
       "      <td>NORTH PINE RIVER GRID REF 062823 AT HORNIBROOK...</td>\n",
       "      <td>-27.277510</td>\n",
       "      <td>153.063226</td>\n",
       "      <td>2000-04-04</td>\n",
       "      <td>NaN</td>\n",
       "      <td>0.2</td>\n",
       "      <td>NaN</td>\n",
       "      <td>NaN</td>\n",
       "      <td>0.56</td>\n",
       "      <td>...</td>\n",
       "      <td>NaN</td>\n",
       "      <td>NaN</td>\n",
       "      <td>0.053</td>\n",
       "      <td>0.035</td>\n",
       "      <td>NaN</td>\n",
       "      <td>NaN</td>\n",
       "      <td>NaN</td>\n",
       "      <td>NaN</td>\n",
       "      <td>NaN</td>\n",
       "      <td>NaN</td>\n",
       "    </tr>\n",
       "    <tr>\n",
       "      <th>3</th>\n",
       "      <td>E00801</td>\n",
       "      <td>NORTH PINE RIVER 2.4km FROM MOUTH AT DOHLES RO...</td>\n",
       "      <td>-27.279375</td>\n",
       "      <td>153.040314</td>\n",
       "      <td>2000-04-04</td>\n",
       "      <td>NaN</td>\n",
       "      <td>0.2</td>\n",
       "      <td>NaN</td>\n",
       "      <td>NaN</td>\n",
       "      <td>0.52</td>\n",
       "      <td>...</td>\n",
       "      <td>NaN</td>\n",
       "      <td>NaN</td>\n",
       "      <td>0.056</td>\n",
       "      <td>0.038</td>\n",
       "      <td>NaN</td>\n",
       "      <td>NaN</td>\n",
       "      <td>NaN</td>\n",
       "      <td>NaN</td>\n",
       "      <td>NaN</td>\n",
       "      <td>NaN</td>\n",
       "    </tr>\n",
       "    <tr>\n",
       "      <th>4</th>\n",
       "      <td>E00802</td>\n",
       "      <td>NORTH PINE RIVER 5.5km FROM MOUTH 100m U/S OF ...</td>\n",
       "      <td>-27.298117</td>\n",
       "      <td>153.035287</td>\n",
       "      <td>2000-04-04</td>\n",
       "      <td>NaN</td>\n",
       "      <td>0.2</td>\n",
       "      <td>NaN</td>\n",
       "      <td>NaN</td>\n",
       "      <td>0.85</td>\n",
       "      <td>...</td>\n",
       "      <td>NaN</td>\n",
       "      <td>NaN</td>\n",
       "      <td>0.078</td>\n",
       "      <td>0.056</td>\n",
       "      <td>NaN</td>\n",
       "      <td>NaN</td>\n",
       "      <td>NaN</td>\n",
       "      <td>NaN</td>\n",
       "      <td>NaN</td>\n",
       "      <td>NaN</td>\n",
       "    </tr>\n",
       "  </tbody>\n",
       "</table>\n",
       "<p>5 rows × 25 columns</p>\n",
       "</div>"
      ],
      "text/plain": [
       "  Location                                      Location name  Lat\\n(GDA94)  \\\n",
       "0   E00916  MORETON BAY GRID REFERENCE 080820 (088200) (EH...    -27.278390   \n",
       "1   E00919  MORETON BAY GRID REFERENCE 100790 (105795) (10...    -27.306723   \n",
       "2   E00800  NORTH PINE RIVER GRID REF 062823 AT HORNIBROOK...    -27.277510   \n",
       "3   E00801  NORTH PINE RIVER 2.4km FROM MOUTH AT DOHLES RO...    -27.279375   \n",
       "4   E00802  NORTH PINE RIVER 5.5km FROM MOUTH 100m U/S OF ...    -27.298117   \n",
       "\n",
       "   Long\\n(GDA94) Survey\\ndate Survey\\ntime  Depth\\n(m) Chlorophyll a\\n(ug/L)  \\\n",
       "0     153.087709   2000-03-02          NaN         0.2                   3.6   \n",
       "1     153.106036   2000-03-02          NaN         0.2                   7.6   \n",
       "2     153.063226   2000-04-04          NaN         0.2                   NaN   \n",
       "3     153.040314   2000-04-04          NaN         0.2                   NaN   \n",
       "4     153.035287   2000-04-04          NaN         0.2                   NaN   \n",
       "\n",
       "  Secchi depth\\n(metres) Total N\\n(mg/L)  ... pH (Unit) Pheopigments\\n(ug/L)  \\\n",
       "0                    NaN             0.2  ...       NaN                  0.7   \n",
       "1                    NaN            0.18  ...       NaN                  2.9   \n",
       "2                    NaN            0.56  ...       NaN                  NaN   \n",
       "3                    NaN            0.52  ...       NaN                  NaN   \n",
       "4                    NaN            0.85  ...       NaN                  NaN   \n",
       "\n",
       "  FRP\\n(mg/L)  Total P\\n(mg/L)  Salinity\\n(g/L)  Conductivity\\n(mS/cm)  \\\n",
       "0       0.026            0.056              NaN                    NaN   \n",
       "1       0.019            0.042              NaN                    NaN   \n",
       "2       0.053            0.035              NaN                    NaN   \n",
       "3       0.056            0.038              NaN                    NaN   \n",
       "4       0.078            0.056              NaN                    NaN   \n",
       "\n",
       "  Temp\\n(deg C) Turbidity\\n(NTU) TSS\\n(mg/L)  Enterococci \\n(CFU/100ml)  \n",
       "0           NaN              NaN         NaN                        NaN  \n",
       "1           NaN              NaN         NaN                        NaN  \n",
       "2           NaN              NaN         NaN                        NaN  \n",
       "3           NaN              NaN         NaN                        NaN  \n",
       "4           NaN              NaN         NaN                        NaN  \n",
       "\n",
       "[5 rows x 25 columns]"
      ]
     },
     "execution_count": 46,
     "metadata": {},
     "output_type": "execute_result"
    }
   ],
   "source": [
    "df.head()"
   ]
  },
  {
   "cell_type": "code",
   "execution_count": 47,
   "metadata": {},
   "outputs": [
    {
     "name": "stdout",
     "output_type": "stream",
     "text": [
      "['Location', 'Location name', 'Lat\\n(GDA94)', 'Long\\n(GDA94)', 'Survey\\ndate', 'Survey\\ntime', 'Depth\\n(m)', 'Chlorophyll a\\n(ug/L)', 'Secchi depth\\n(metres)', 'Total N\\n(mg/L)', 'Ammonia\\n(mg/L)', 'Organic N\\n(mg/L)', 'NOx\\n(mg/L)', 'DO\\n(mg/L)', 'DO saturation\\n(%)', 'pH (Unit)', 'Pheopigments\\n(ug/L)', 'FRP\\n(mg/L)', 'Total P\\n(mg/L)', 'Salinity\\n(g/L)', 'Conductivity\\n(mS/cm)', 'Temp\\n(deg C)', 'Turbidity\\n(NTU)', 'TSS\\n(mg/L)', 'Enterococci \\n(CFU/100ml)']\n"
     ]
    }
   ],
   "source": [
    "column_names = df.columns.tolist()\n",
    "print(column_names)"
   ]
  },
  {
   "cell_type": "code",
   "execution_count": 48,
   "metadata": {},
   "outputs": [],
   "source": [
    "# List of columns to drop\n",
    "columns_to_drop = ['Location', 'Survey\\ntime', 'TSS\\n(mg/L)', 'Enterococci \\n(CFU/100ml)']\n",
    "\n",
    "# Drop the specified columns from the DataFrame\n",
    "df.drop(columns=columns_to_drop, inplace=True)"
   ]
  },
  {
   "cell_type": "code",
   "execution_count": 49,
   "metadata": {},
   "outputs": [],
   "source": [
    "df.columns = [col.replace('\\n', ' ') for col in df.columns]"
   ]
  },
  {
   "cell_type": "code",
   "execution_count": 50,
   "metadata": {},
   "outputs": [
    {
     "name": "stdout",
     "output_type": "stream",
     "text": [
      "\n",
      "Missing values in each column:\n",
      "Location name               0\n",
      "Lat (GDA94)                 0\n",
      "Long (GDA94)                0\n",
      "Survey date                 0\n",
      "Depth (m)                   2\n",
      "Chlorophyll a (ug/L)     3350\n",
      "Secchi depth (metres)    3423\n",
      "Total N (mg/L)           3295\n",
      "Ammonia (mg/L)           3301\n",
      "Organic N (mg/L)         3301\n",
      "NOx (mg/L)               3295\n",
      "DO (mg/L)                  80\n",
      "DO saturation (%)          80\n",
      "pH (Unit)                  52\n",
      "Pheopigments (ug/L)      3395\n",
      "FRP (mg/L)               3300\n",
      "Total P (mg/L)           3295\n",
      "Salinity (g/L)             51\n",
      "Conductivity (mS/cm)       51\n",
      "Temp (deg C)               51\n",
      "Turbidity (NTU)            93\n",
      "dtype: int64\n"
     ]
    }
   ],
   "source": [
    "print(\"\\nMissing values in each column:\")\n",
    "print(df.isnull().sum())"
   ]
  },
  {
   "cell_type": "code",
   "execution_count": 51,
   "metadata": {},
   "outputs": [
    {
     "name": "stdout",
     "output_type": "stream",
     "text": [
      "Size of the DataFrame:\n",
      "Rows: 5702, Columns: 21\n"
     ]
    }
   ],
   "source": [
    "print(\"Size of the DataFrame:\")\n",
    "print(f\"Rows: {df.shape[0]}, Columns: {df.shape[1]}\")"
   ]
  },
  {
   "cell_type": "code",
   "execution_count": 52,
   "metadata": {},
   "outputs": [],
   "source": [
    "def size_df(df):\n",
    "    print(\"Size of the DataFrame:\")\n",
    "    print(f\"Rows: {df.shape[0]}, Columns: {df.shape[1]}\")"
   ]
  },
  {
   "cell_type": "code",
   "execution_count": 53,
   "metadata": {},
   "outputs": [
    {
     "name": "stdout",
     "output_type": "stream",
     "text": [
      "Size of the DataFrame:\n",
      "Rows: 5702, Columns: 21\n",
      "Size of the DataFrame:\n",
      "Rows: 2189, Columns: 21\n"
     ]
    }
   ],
   "source": [
    "size_df(df)\n",
    "\n",
    "clean_df = df.dropna()\n",
    "\n",
    "size_df(clean_df)"
   ]
  },
  {
   "cell_type": "code",
   "execution_count": 54,
   "metadata": {},
   "outputs": [],
   "source": [
    "rel_output_file_path: str = \"../../api/db/data/unity_water_estuarine_marine_data.csv\"\n",
    "clean_df.to_csv(rel_output_file_path, index=False)"
   ]
  }
 ],
 "metadata": {
  "kernelspec": {
   "display_name": "Python 3",
   "language": "python",
   "name": "python3"
  },
  "language_info": {
   "codemirror_mode": {
    "name": "ipython",
    "version": 3
   },
   "file_extension": ".py",
   "mimetype": "text/x-python",
   "name": "python",
   "nbconvert_exporter": "python",
   "pygments_lexer": "ipython3",
   "version": "3.12.5"
  }
 },
 "nbformat": 4,
 "nbformat_minor": 2
}
